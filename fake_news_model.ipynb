{
 "cells": [
  {
   "cell_type": "code",
   "execution_count": 117,
   "id": "8826146f-fc40-4908-88b6-291bb10b891b",
   "metadata": {},
   "outputs": [],
   "source": [
    "import numpy as np\n",
    "import pandas as pd\n",
    "import re\n",
    "import nltk\n",
    "from nltk.corpus import stopwords\n",
    "from nltk.stem.porter import PorterStemmer\n",
    "from sklearn.feature_extraction.text import TfidfVectorizer\n",
    "from sklearn.model_selection import train_test_split\n",
    "from sklearn.linear_model import LogisticRegression\n",
    "from sklearn.metrics import accuracy_score "
   ]
  },
  {
   "cell_type": "code",
   "execution_count": 58,
   "id": "014d40ae-071a-43ee-a0d9-21eb8eebce4d",
   "metadata": {},
   "outputs": [
    {
     "name": "stderr",
     "output_type": "stream",
     "text": [
      "[nltk_data] Downloading package stopwords to\n",
      "[nltk_data]     /Users/syedgufrahussain/nltk_data...\n",
      "[nltk_data]   Unzipping corpora/stopwords.zip.\n"
     ]
    },
    {
     "data": {
      "text/plain": [
       "True"
      ]
     },
     "execution_count": 58,
     "metadata": {},
     "output_type": "execute_result"
    }
   ],
   "source": [
    "nltk.download('stopwords')"
   ]
  },
  {
   "cell_type": "code",
   "execution_count": 60,
   "id": "0f13f43a-ea75-44d0-9dc5-ab91cf9f948b",
   "metadata": {},
   "outputs": [
    {
     "name": "stdout",
     "output_type": "stream",
     "text": [
      "['a', 'about', 'above', 'after', 'again', 'against', 'ain', 'all', 'am', 'an', 'and', 'any', 'are', 'aren', \"aren't\", 'as', 'at', 'be', 'because', 'been', 'before', 'being', 'below', 'between', 'both', 'but', 'by', 'can', 'couldn', \"couldn't\", 'd', 'did', 'didn', \"didn't\", 'do', 'does', 'doesn', \"doesn't\", 'doing', 'don', \"don't\", 'down', 'during', 'each', 'few', 'for', 'from', 'further', 'had', 'hadn', \"hadn't\", 'has', 'hasn', \"hasn't\", 'have', 'haven', \"haven't\", 'having', 'he', \"he'd\", \"he'll\", 'her', 'here', 'hers', 'herself', \"he's\", 'him', 'himself', 'his', 'how', 'i', \"i'd\", 'if', \"i'll\", \"i'm\", 'in', 'into', 'is', 'isn', \"isn't\", 'it', \"it'd\", \"it'll\", \"it's\", 'its', 'itself', \"i've\", 'just', 'll', 'm', 'ma', 'me', 'mightn', \"mightn't\", 'more', 'most', 'mustn', \"mustn't\", 'my', 'myself', 'needn', \"needn't\", 'no', 'nor', 'not', 'now', 'o', 'of', 'off', 'on', 'once', 'only', 'or', 'other', 'our', 'ours', 'ourselves', 'out', 'over', 'own', 're', 's', 'same', 'shan', \"shan't\", 'she', \"she'd\", \"she'll\", \"she's\", 'should', 'shouldn', \"shouldn't\", \"should've\", 'so', 'some', 'such', 't', 'than', 'that', \"that'll\", 'the', 'their', 'theirs', 'them', 'themselves', 'then', 'there', 'these', 'they', \"they'd\", \"they'll\", \"they're\", \"they've\", 'this', 'those', 'through', 'to', 'too', 'under', 'until', 'up', 've', 'very', 'was', 'wasn', \"wasn't\", 'we', \"we'd\", \"we'll\", \"we're\", 'were', 'weren', \"weren't\", \"we've\", 'what', 'when', 'where', 'which', 'while', 'who', 'whom', 'why', 'will', 'with', 'won', \"won't\", 'wouldn', \"wouldn't\", 'y', 'you', \"you'd\", \"you'll\", 'your', \"you're\", 'yours', 'yourself', 'yourselves', \"you've\"]\n"
     ]
    }
   ],
   "source": [
    "print(stopwords.words('english'))"
   ]
  },
  {
   "cell_type": "code",
   "execution_count": 61,
   "id": "4c929442-2405-4799-8e67-91fa96894292",
   "metadata": {},
   "outputs": [],
   "source": [
    "df = pd.read_csv('news.csv')"
   ]
  },
  {
   "cell_type": "code",
   "execution_count": 62,
   "id": "d362ad96-b345-4a36-a672-3d96c3c962a9",
   "metadata": {},
   "outputs": [
    {
     "data": {
      "text/html": [
       "<div>\n",
       "<style scoped>\n",
       "    .dataframe tbody tr th:only-of-type {\n",
       "        vertical-align: middle;\n",
       "    }\n",
       "\n",
       "    .dataframe tbody tr th {\n",
       "        vertical-align: top;\n",
       "    }\n",
       "\n",
       "    .dataframe thead th {\n",
       "        text-align: right;\n",
       "    }\n",
       "</style>\n",
       "<table border=\"1\" class=\"dataframe\">\n",
       "  <thead>\n",
       "    <tr style=\"text-align: right;\">\n",
       "      <th></th>\n",
       "      <th>Unnamed: 0</th>\n",
       "      <th>title</th>\n",
       "      <th>text</th>\n",
       "      <th>label</th>\n",
       "    </tr>\n",
       "  </thead>\n",
       "  <tbody>\n",
       "    <tr>\n",
       "      <th>0</th>\n",
       "      <td>8476</td>\n",
       "      <td>You Can Smell Hillary’s Fear</td>\n",
       "      <td>Daniel Greenfield, a Shillman Journalism Fello...</td>\n",
       "      <td>FAKE</td>\n",
       "    </tr>\n",
       "    <tr>\n",
       "      <th>1</th>\n",
       "      <td>10294</td>\n",
       "      <td>Watch The Exact Moment Paul Ryan Committed Pol...</td>\n",
       "      <td>Google Pinterest Digg Linkedin Reddit Stumbleu...</td>\n",
       "      <td>FAKE</td>\n",
       "    </tr>\n",
       "    <tr>\n",
       "      <th>2</th>\n",
       "      <td>3608</td>\n",
       "      <td>Kerry to go to Paris in gesture of sympathy</td>\n",
       "      <td>U.S. Secretary of State John F. Kerry said Mon...</td>\n",
       "      <td>REAL</td>\n",
       "    </tr>\n",
       "    <tr>\n",
       "      <th>3</th>\n",
       "      <td>10142</td>\n",
       "      <td>Bernie supporters on Twitter erupt in anger ag...</td>\n",
       "      <td>— Kaydee King (@KaydeeKing) November 9, 2016 T...</td>\n",
       "      <td>FAKE</td>\n",
       "    </tr>\n",
       "    <tr>\n",
       "      <th>4</th>\n",
       "      <td>875</td>\n",
       "      <td>The Battle of New York: Why This Primary Matters</td>\n",
       "      <td>It's primary day in New York and front-runners...</td>\n",
       "      <td>REAL</td>\n",
       "    </tr>\n",
       "  </tbody>\n",
       "</table>\n",
       "</div>"
      ],
      "text/plain": [
       "   Unnamed: 0                                              title  \\\n",
       "0        8476                       You Can Smell Hillary’s Fear   \n",
       "1       10294  Watch The Exact Moment Paul Ryan Committed Pol...   \n",
       "2        3608        Kerry to go to Paris in gesture of sympathy   \n",
       "3       10142  Bernie supporters on Twitter erupt in anger ag...   \n",
       "4         875   The Battle of New York: Why This Primary Matters   \n",
       "\n",
       "                                                text label  \n",
       "0  Daniel Greenfield, a Shillman Journalism Fello...  FAKE  \n",
       "1  Google Pinterest Digg Linkedin Reddit Stumbleu...  FAKE  \n",
       "2  U.S. Secretary of State John F. Kerry said Mon...  REAL  \n",
       "3  — Kaydee King (@KaydeeKing) November 9, 2016 T...  FAKE  \n",
       "4  It's primary day in New York and front-runners...  REAL  "
      ]
     },
     "execution_count": 62,
     "metadata": {},
     "output_type": "execute_result"
    }
   ],
   "source": [
    "df.head()"
   ]
  },
  {
   "cell_type": "code",
   "execution_count": 63,
   "id": "e207cebb-f5c7-43c9-825a-163d096ca8fd",
   "metadata": {},
   "outputs": [
    {
     "data": {
      "text/plain": [
       "(6335, 4)"
      ]
     },
     "execution_count": 63,
     "metadata": {},
     "output_type": "execute_result"
    }
   ],
   "source": [
    "df.shape"
   ]
  },
  {
   "cell_type": "code",
   "execution_count": 66,
   "id": "6f2a7bbc-dbf9-42fd-a5c9-6cf74b922fc0",
   "metadata": {},
   "outputs": [
    {
     "data": {
      "text/plain": [
       "Unnamed: 0    0\n",
       "title         0\n",
       "text          0\n",
       "label         0\n",
       "dtype: int64"
      ]
     },
     "execution_count": 66,
     "metadata": {},
     "output_type": "execute_result"
    }
   ],
   "source": [
    "df.isnull().sum()"
   ]
  },
  {
   "cell_type": "code",
   "execution_count": 65,
   "id": "7aa7d4ec-e300-4e34-9f1d-a8baaa1589f9",
   "metadata": {},
   "outputs": [],
   "source": [
    "df  = df.fillna('')"
   ]
  },
  {
   "cell_type": "code",
   "execution_count": 96,
   "id": "eb9475a1-f910-4431-a6a6-40711feff317",
   "metadata": {},
   "outputs": [],
   "source": [
    "df['content'] = df ['text']+ ' ' + df['title']"
   ]
  },
  {
   "cell_type": "code",
   "execution_count": 97,
   "id": "e594e9b0-0568-4d2a-8f99-fa5b6bde0a1b",
   "metadata": {},
   "outputs": [
    {
     "data": {
      "text/html": [
       "<div>\n",
       "<style scoped>\n",
       "    .dataframe tbody tr th:only-of-type {\n",
       "        vertical-align: middle;\n",
       "    }\n",
       "\n",
       "    .dataframe tbody tr th {\n",
       "        vertical-align: top;\n",
       "    }\n",
       "\n",
       "    .dataframe thead th {\n",
       "        text-align: right;\n",
       "    }\n",
       "</style>\n",
       "<table border=\"1\" class=\"dataframe\">\n",
       "  <thead>\n",
       "    <tr style=\"text-align: right;\">\n",
       "      <th></th>\n",
       "      <th>Unnamed: 0</th>\n",
       "      <th>title</th>\n",
       "      <th>text</th>\n",
       "      <th>label</th>\n",
       "      <th>content</th>\n",
       "    </tr>\n",
       "  </thead>\n",
       "  <tbody>\n",
       "    <tr>\n",
       "      <th>0</th>\n",
       "      <td>8476</td>\n",
       "      <td>You Can Smell Hillary’s Fear</td>\n",
       "      <td>Daniel Greenfield, a Shillman Journalism Fello...</td>\n",
       "      <td>FAKE</td>\n",
       "      <td>Daniel Greenfield, a Shillman Journalism Fello...</td>\n",
       "    </tr>\n",
       "    <tr>\n",
       "      <th>1</th>\n",
       "      <td>10294</td>\n",
       "      <td>Watch The Exact Moment Paul Ryan Committed Pol...</td>\n",
       "      <td>Google Pinterest Digg Linkedin Reddit Stumbleu...</td>\n",
       "      <td>FAKE</td>\n",
       "      <td>Google Pinterest Digg Linkedin Reddit Stumbleu...</td>\n",
       "    </tr>\n",
       "    <tr>\n",
       "      <th>2</th>\n",
       "      <td>3608</td>\n",
       "      <td>Kerry to go to Paris in gesture of sympathy</td>\n",
       "      <td>U.S. Secretary of State John F. Kerry said Mon...</td>\n",
       "      <td>REAL</td>\n",
       "      <td>U.S. Secretary of State John F. Kerry said Mon...</td>\n",
       "    </tr>\n",
       "    <tr>\n",
       "      <th>3</th>\n",
       "      <td>10142</td>\n",
       "      <td>Bernie supporters on Twitter erupt in anger ag...</td>\n",
       "      <td>— Kaydee King (@KaydeeKing) November 9, 2016 T...</td>\n",
       "      <td>FAKE</td>\n",
       "      <td>— Kaydee King (@KaydeeKing) November 9, 2016 T...</td>\n",
       "    </tr>\n",
       "    <tr>\n",
       "      <th>4</th>\n",
       "      <td>875</td>\n",
       "      <td>The Battle of New York: Why This Primary Matters</td>\n",
       "      <td>It's primary day in New York and front-runners...</td>\n",
       "      <td>REAL</td>\n",
       "      <td>It's primary day in New York and front-runners...</td>\n",
       "    </tr>\n",
       "  </tbody>\n",
       "</table>\n",
       "</div>"
      ],
      "text/plain": [
       "   Unnamed: 0                                              title  \\\n",
       "0        8476                       You Can Smell Hillary’s Fear   \n",
       "1       10294  Watch The Exact Moment Paul Ryan Committed Pol...   \n",
       "2        3608        Kerry to go to Paris in gesture of sympathy   \n",
       "3       10142  Bernie supporters on Twitter erupt in anger ag...   \n",
       "4         875   The Battle of New York: Why This Primary Matters   \n",
       "\n",
       "                                                text label  \\\n",
       "0  Daniel Greenfield, a Shillman Journalism Fello...  FAKE   \n",
       "1  Google Pinterest Digg Linkedin Reddit Stumbleu...  FAKE   \n",
       "2  U.S. Secretary of State John F. Kerry said Mon...  REAL   \n",
       "3  — Kaydee King (@KaydeeKing) November 9, 2016 T...  FAKE   \n",
       "4  It's primary day in New York and front-runners...  REAL   \n",
       "\n",
       "                                             content  \n",
       "0  Daniel Greenfield, a Shillman Journalism Fello...  \n",
       "1  Google Pinterest Digg Linkedin Reddit Stumbleu...  \n",
       "2  U.S. Secretary of State John F. Kerry said Mon...  \n",
       "3  — Kaydee King (@KaydeeKing) November 9, 2016 T...  \n",
       "4  It's primary day in New York and front-runners...  "
      ]
     },
     "execution_count": 97,
     "metadata": {},
     "output_type": "execute_result"
    }
   ],
   "source": [
    "df.head()"
   ]
  },
  {
   "cell_type": "code",
   "execution_count": 125,
   "id": "86e3c294-e180-4bf1-86ae-8d8f6d7fd197",
   "metadata": {},
   "outputs": [
    {
     "name": "stdout",
     "output_type": "stream",
     "text": [
      "0       daniel greenfield shillman journal fellow free...\n",
      "1       googl pinterest digg linkedin reddit stumbleup...\n",
      "2       u secretari state john f kerri said monday sto...\n",
      "3       kayde king kaydeek novemb lesson tonight dem l...\n",
      "4       primari day new york front runner hillari clin...\n",
      "                              ...                        \n",
      "6330    state depart told republican nation committe c...\n",
      "6331    p pb stand plutocrat pentagon post oct wikimed...\n",
      "6332    anti trump protest tool oligarchi reform alway...\n",
      "6333    addi ababa ethiopia presid obama conven meet l...\n",
      "6334    jeb bush suddenli attack trump matter jeb bush...\n",
      "Name: content, Length: 6335, dtype: object\n"
     ]
    }
   ],
   "source": [
    "print(df.content)"
   ]
  },
  {
   "cell_type": "code",
   "execution_count": 98,
   "id": "5c975ba7-1e38-43d8-8e1c-5ddf0df04356",
   "metadata": {},
   "outputs": [],
   "source": [
    "#stemming\n",
    "port_stem= PorterStemmer()\n"
   ]
  },
  {
   "cell_type": "code",
   "execution_count": 99,
   "id": "b8109694-078d-4a43-973a-6c9c47af77b5",
   "metadata": {},
   "outputs": [],
   "source": [
    "def stemming(content):\n",
    "    stemmed_content = re.sub('[^a-zA-Z]', ' ' , content)\n",
    "    stemmed_content = stemmed_content.lower()\n",
    "    stemmed_content = stemmed_content.split()\n",
    "    stemmed_content = [port_stem.stem(word) for word in stemmed_content if not word in stopwords.words('english')]\n",
    "    stemmed_content = ' '.join(stemmed_content)\n",
    "    return stemmed_content"
   ]
  },
  {
   "cell_type": "code",
   "execution_count": 100,
   "id": "4d78cc8a-7474-46f5-b29d-4f4e968a5cc7",
   "metadata": {},
   "outputs": [],
   "source": [
    "df['content'] = df['content'].apply(stemming)"
   ]
  },
  {
   "cell_type": "code",
   "execution_count": 101,
   "id": "245f3470-c963-4dcc-885e-1cfc39eba8ae",
   "metadata": {},
   "outputs": [
    {
     "name": "stdout",
     "output_type": "stream",
     "text": [
      "0       daniel greenfield shillman journal fellow free...\n",
      "1       googl pinterest digg linkedin reddit stumbleup...\n",
      "2       u secretari state john f kerri said monday sto...\n",
      "3       kayde king kaydeek novemb lesson tonight dem l...\n",
      "4       primari day new york front runner hillari clin...\n",
      "                              ...                        \n",
      "6330    state depart told republican nation committe c...\n",
      "6331    p pb stand plutocrat pentagon post oct wikimed...\n",
      "6332    anti trump protest tool oligarchi reform alway...\n",
      "6333    addi ababa ethiopia presid obama conven meet l...\n",
      "6334    jeb bush suddenli attack trump matter jeb bush...\n",
      "Name: content, Length: 6335, dtype: object\n"
     ]
    }
   ],
   "source": [
    "print(df.content)"
   ]
  },
  {
   "cell_type": "code",
   "execution_count": 102,
   "id": "0cd7bfbb-07f2-424a-b6be-034d3dc43469",
   "metadata": {},
   "outputs": [],
   "source": [
    "X = df['content'].values\n",
    "Y = df['label'].values"
   ]
  },
  {
   "cell_type": "code",
   "execution_count": 103,
   "id": "2c6fe0a2-8796-41d7-b1f6-0c230e78e629",
   "metadata": {},
   "outputs": [
    {
     "name": "stdout",
     "output_type": "stream",
     "text": [
      "['daniel greenfield shillman journal fellow freedom center new york writer focus radic islam final stretch elect hillari rodham clinton gone war fbi word unpreced thrown around often elect ought retir still unpreced nomine major polit parti go war fbi exactli hillari peopl done coma patient wake watch hour cnn hospit bed would assum fbi director jame comey hillari oppon elect fbi attack everyon obama cnn hillari peopl circul letter attack comey current media hit piec lambast target trump surpris clinton alli start run attack ad fbi fbi leadership warn entir left wing establish form lynch mob continu go hillari fbi credibl attack media democrat preemptiv head result investig clinton foundat hillari clinton covert struggl fbi agent obama doj peopl gone explos public new york time compar comey j edgar hoover bizarr headlin jame comey role recal hoover fbi fairli practic admit front spout nonsens boston globe publish column call comey resign outdon time editori claim scandal realli attack women jame carvil appear msnbc remind everyon still aliv insan accus comey coordin hous republican kgb thought vast right wing conspiraci stretch countless media stori charg comey violat procedur know procedur violat email classifi inform store bathroom server senat harri reid sent comey letter accus violat hatch act hatch act nice idea much relev age obama tenth amend cabl news spectrum quickli fill media hack glanc wikipedia articl hatch act tabl accus fbi director one awkward conspiraci hillari ever jame comey realli hurt hillari pick one hell strang way long ago democrat breath sigh relief gave hillari clinton pass promin public statement realli elect trump keep email scandal go trash investig payrol hous republican kgb back play coy sudden develop vladimir putin paul ryan talk take look anthoni weiner comput either comey cun fbi director ever live awkwardli tri navig polit mess trap doj leadership whose polit futur tie hillari victori bureau whose apolit agent want allow job truli mysteri thing hillari associ decid go war respect feder agenc american like fbi hillari clinton enjoy unfavor rate interest question hillari old strategi lie deni fbi even crimin investig underway instead associ insist secur review fbi correct shrug old breezi denial approach given way savag assault fbi pretend noth wrong bad strategi better one pick fight fbi lunat clinton associ tri claim fbi realli kgb two possibl explan hillari clinton might arrog enough lash fbi believ victori near kind hubri led plan victori firework display could lead declar war fbi irrit final mile campaign explan peopl panick go war fbi behavior smart focus presidenti campaign act desper presidenti candid decid option tri destroy credibl fbi hubri fear fbi might reveal origin fbi investig hillari clinton confid could ride good reason believ hillari clinton gone place paranoid wreck within short space time posit clinton campaign promis unit countri replac desper flail oper focus energi fight fbi one reason bizarr behavior clinton campaign decid fbi investig latest batch email pose threat surviv gone fight fbi unpreced step born fear hard know whether fear justifi exist fear alreadi tell us whole lot clinton loyalist rig old investig knew outcom ahead time well knew debat question suddenli longer control afraid smell fear fbi wiretap investig clinton foundat find new email time clintonworld panick spinmeist clintonworld claim email scandal much smoke without fire appear improprieti without substanc react smoke respond fire misguid assault fbi tell us hillari clinton alli afraid revel bigger fundament illeg email setup email setup preemptiv cover clinton campaign panick badli belief right wrong whatev crime illeg setup meant cover risk expos clinton weather countless scandal year whatev protect time around bigger usual corrupt briberi sexual assault abus power follow around throughout year bigger damag alleg alreadi come want fbi investig anywher near campaign comey pure intimid also warn senior fbi peopl valu career warn stay away democrat close rank around nomine fbi ugli unpreced scene may also last stand hillari clinton awkwardli wound way numer scandal elect cycl never shown fear desper chang whatev afraid lie buri email huma abedin bring like noth els smell hillari fear'\n",
      " 'googl pinterest digg linkedin reddit stumbleupon print delici pocket tumblr two fundament truth world paul ryan desper want presid paul ryan never presid today prove particularli stagger exampl polit cowardic paul ryan revers cours announc back trump train aboutfac week ago previous declar would support defend trump tape made public trump brag assault women suddenli ryan appear pro trump ralli boldli declar alreadi sent vote make presid unit state surreal moment figurehead republican parti dose gasolin got stage chilli afternoon wisconsin lit match speakerryan say vote realdonaldtrump republican time come home http co vytt yvoe pic twitter com wcvscg abc news polit abcpolit novemb democrat parti ask better moment film ryan chanc ever becom presid went zero instant wreckag trump leav behind wake cravenli back campaign recov ryan career manag limp way dnc tape lock load use everi ad elect day ring endors man clearli hate person level speak volum spineless ryan postur principl conserv one uncomfort trump unapologet bigotri sexism howev push came shove paul ryan like mani colleagu turn snivel appeas lofti tak convict principl hous card collaps slightest breez especi bizarr close ryan came make unscath month speaker hous refus comment trump strategi seem keep head pretend trump exist hope nobodi rememb happen day away elect screw ugli elect done good expos utter cowardic republican feign moral courag realiti televis star spit hijack parti insult wive got everi last one kneel turn event featur imag via twitter watch exact moment paul ryan commit polit suicid trump ralli video'\n",
      " 'u secretari state john f kerri said monday stop pari later week amid critic top american offici attend sunday uniti march terror kerri said expect arriv pari thursday even head home week abroad said fli franc conclus seri meet schedul thursday sofia bulgaria plan meet next day foreign minist laurent fabiu presid francoi holland return washington visit kerri famili childhood tie countri speak fluent french could address critic unit state snub franc darkest hour mani year french press monday fill question neither presid obama kerri attend sunday march leader nation obama said stay away secur need tax countri kerri prior commit among roughli leader attend isra prime minist benjamin netanyahu stranger intens secur march besid holland citi street highest rank u offici attend march jane hartley ambassador franc victoria nuland assist secretari state european affair attorney gener eric h holder jr pari meet law enforc offici particip march kerri spent sunday busi summit host india prime minist narendra modi unit state eager india relax stringent law function barrier foreign invest hope modi govern act open huge indian market american busi news confer kerri brush asid critic unit state sent senior offici pari quibbl littl bit note mani staffer american embassi pari attend march includ ambassador said want present march could prior commit india go way home make crystal clear passion feel event taken place said think peopl franc doubt america understand happen person sens loss deep commit peopl franc moment trauma kerri go pari gestur sympathi'\n",
      " ...\n",
      " 'anti trump protest tool oligarchi reform alway provok rage part profit old order arthur schlesing jr crisi old order paul craig robert anti trump protest besmirch name progress pretend progress refus accept outcom presidenti elect look like act wors white trash denounc think know thug hire paid oligarchi delegitim trump presid way washington german marshal fund paid student kiev protest democrat elect ukrainian govern order prepar way coup organ chang org claim progress group might front along progress group oligarchi destroy reput progress circul petit direct elector elector collag annul elect cast vote hillari rememb upset progress trump said might accept elect result evid vote rig progress damn trump say might certain condit western presstitut use protest kiev delegitim democrat elect govern set coup protest pay good enough non ukrainian came nearbi countri particip protest order collect money time post amount paid daili protest report came eastern western europ peopl ukrainian paid protest ukrainian thing go trump protest cnn report mani american across countri donald trump victori outcom simpli refus accept ten thousand fill street least us citi overnight exact report oligarchi desir presstitut got hope one think simultan protest citi spontan event independ protest manag come slogan sign night follow elect point protest interest serv roman alway ask benefit one answer oligarchi oligarchi benefit trump threat oligarchi intend stop giveaway american job foreign job giveaway sanctifi neoliber junk economist free trade one main reason st centuri worsen us incom distribut money formerli paid middl class wage salari american manufactur employe colleg graduat rout pocket one percent us corpor move product good servic sold american offshor asian countri china india wage bill fall money formerli paid middl class incom goe instead execut bonus dividend capit gain sharehold ladder upward mobil made america land opportun dismantl sole purpos make hand peopl multi billionair trump threat oligarchi intend peac relat russia order replac profit soviet threat oligarchi neoconserv agent work overtim recreat russian threat demon russia accustom mani decad excess profit profit cold war militari secur complex angri presid reagan brought cold war end leach american taxpay could get cold war go soviet union collaps result right wing coup soviet presid mikhail gorbachev militari secur complex zionist neoconserv agent cook war terror keep money flow one percent hard presstitut media work creat fear muslim threat even insouci american knew muslim thousand icbm carri power thermo nuclear weapon capabl destroy entireti unit state minut neither muslim red armi capabl overrun europ coupl day inde muslim need armi refuge washington war enabl european overrun europ excus annual trillion dollar billion militari secur budget miss oligarchi creat new hitler russia hillari oligarchi principl agent heat new cold war hillari tool enrich oligarchi whose job presid protect increas trillion dollar budget militari secur complex hillari white hous loot american taxpay behalf wealth one percent could go forward unimped trump resolv russian threat oligarchi take incom hit hillari job presid also privat social secur order wall street benefactor rip american way american rip insur compani obamacar american pay attent think mistakenli fbi clear hillari violat nation secur protocol email practic fbi said hillari violat nation secur result careless ignor got indict fbi conclud intent violat nation secur protocol investig clinton foundat continu word order protect hillari fbi fell back ancient common law rule crime without intent see pcr lawrenc stratton tyranni good intent one would think protest legitim would celebr trump victori unlik hillari promis reduc tension power russia hope also china unlik hillari trump say concern absenc career peopl protest street citi word protest american peopl elect trump presid pointless protest happen one reason oligarchi intend delegitim trump presid presid trump delegitim easier oligarchi assassin unless oligarchi appoint control trump govern trump prime candid assassin protest trump suspici anoth reason unlik hillari obama georg w bush donald trump slaughter disloc million peopl seven countri send million refuge oligarchi war overrun europ trump earn fortun hook crook sell us govern influenc foreign agent bill hillari protest protest answer except hire protest maidan protest kiev hire protest us german financ ngo protest kiev equal pointless presidenti elect month away ukrainian realli believ presid conspir russia keep ukrain becom western puppet state wish becom puppet state regardless cost opportun vote govern hand reason protest orchestr coup us succeed put agent control new ukrainian govern victoria nuland us ambassador kiev confirm telephon convers avail internet maidan protest pointless except make coup possibl protest without doubt arrang washington assist secretari state victoria nuland neoconserv brought state depart hillari clinton purpos creat conflict russia trump protest order make vulner event prove threat oligarchi thought trump presid oligarchi still power make real reform difficult achiev symbol reform product contest presid trump oligarch karl marx learn histor experi lenin stalin pol pot learn karl marx chang cannot occur displac rule class left intact revolut proof throughout south america everi revolut indigen peopl left unmolest spanish rule class everi revolut overthrown collus rule class washington washington conspir tradit elit remov elect presid hondura number occas recent washington help elit evict femal presid argentina brazil presid venezuela ecuador bolivia crosshair unlik surviv washington determin get hand julian assang achiev washington intend overthrow ecuadoran govern defianc washington gave julian assang polit asylum hugo chavez power exil extermin spanish rule class venezuela rule class particip cia coup chavez cia could kill chavez peopl militari forc releas instead punish crimin would murder chavez let go accord marx lenin stalin classic mistak revolutionari reli good overthrown rule class certain road defeat revolut latin american prove unabl learn lesson revolut cannot conciliatori trump dealmak oligarchi permit sheen success exchang real chang trump perfect might fail back two import element program reduc tension major nuclear power halt washington polici permit global destroy american econom prospect tension nuclear power worsen worri problem combin economi hollow global immigr econom nightmar trump understand reason support note believ trump ruse conduct oligarchi howev hillari bought paid repres oligarchi elabor ruse unnecessari prefer oligarchi win platform instal presid opposit platform chang around anoth sellout increas anger peopl hillari oligarchi would voter mandat platform dr paul craig robert assist secretari treasuri econom polici associ editor wall street journal columnist busi week scripp howard news servic creator syndic mani univers appoint internet column attract worldwid follow robert latest book failur laissez fair capit econom dissolut west america lost neoconserv threat world order anti trump protest tool oligarchi inform'\n",
      " 'addi ababa ethiopia presid obama conven meet leader sever east african nation african union monday effort address worsen situat south sudan even met ethiopia prime minist discuss strengthen human right democrat institut resolut sight ongo conflict south sudan obama brought togeth top offici ethiopia uganda kenya sudan u chart strategi event latest round peac talk fail african nation led ethiopia tri broker peac south sudan intergovernment author develop igad region bodi almost readi present possibl compromis war parti two side aug respond propos administr offici littl expect accept monday obama prais region leader show extraordinari leadership tri address continu situat south sudan group includ ethiopian prime minist hailemariam desalegn ugandan presid yoweri museveni kenyan presid uhuru kenyatta african union chairperson dlamini zuma sudan minist foreign affair ibrahim ghandour give u deleg opportun learn progress made appear continu roadblock partner make progress obama said hope actual bring kind peac peopl south sudan desper need question south sudan nation unit state help bring exist year effort georg w bush obama administr vex american policymak year decemb south sudan presid salva kiir accus riek machar serv vice presid attempt coup etat two longtim polit rival differ ethnic group kiir dinka machar nuer come togeth form govern countri first creat tribal differ help fuel conflict war larg focus control nation oil field south sudan primari sourc revenu princeton lyman u special envoy sudan south sudan note first took envoy unit state spent billion peacekeep assist two nation four year ago big invest ad point million peopl face food shortag roughli million displac home addit south sudanes fled across border neighbor countri includ ethiopia conflict also pose major econom problem kenya major invest south sudan fight broke lapsset corridor project aim transport oil south sudan kenyan port lamu accord e j hogendoorn deputi program director africa intern crisi group plan transport infrastructur develop could engin develop mani part east africa unfortun cours hold war said obama spent part afternoon address region conflict africa devot rest day strengthen tie ethiopia whose allianc unit state date back centuri current govern come sharp critic treatment polit oppon journalist obama first sit u presid visit ethiopia news confer monday afternoon obama hailemariam said frank discuss ethiopia human right practic need improv ethiopia africa number two jailer journalist accord committe protect journalist rule parti percent seat may parliamentari elect white hous nation secur advis susan rice ask last week whether consid ethiopia democraci repli ironi one hundr percent news confer obama twice refer ethiopian govern democrat elect bite tongu obama said rais concern issu ethiopia posit respect hailemariam part said commit democraci real skin deep ad later peopl could expect sweep reform given fact militari rule end coupl decad ago someth understood fledgl democraci two leader also discuss collabor counterterror area ethiopia activ leader white hous announc monday work congress provid approxim million year new train equip capac build aid african alli administr also said would provid least million assist fiscal year combat violent extrem east africa money intend foster collabor among secur forc law enforc govern offici commun leader member civil societi offici said obama prais ethiopia work curb extremist activ note govern label opposit group pose greater threat u intellig would indic intellig indic may oppos govern tip terror said unit state provid million assist ethiopia annual vast bulk million come u agenc intern develop rest larg secur relat last fiscal year nearli million went health program million went humanitarian aid obama said ethiopia proven global leader develop past year lift million peopl poverti mani peopl around world imag ethiopia remain stuck past rememb drought famin said two leader appear friendli rapport throughout news confer hailemariam describ countri score seri first along cradl mankind said ethiopia birthplac coffe elicit smile obama obama said impress ethiopian unusu pet chanc see famou lion live ground said consid get white hous conced make sure dog safe ethiopia obama seek progress peac secur east africa'\n",
      " 'jeb bush suddenli attack trump matter jeb bush pull punch anymor come donald trump former florida governor delic danc around billionair businessman presidenti primari far glove came week bush call trump closet democrat tri stunt trump rise attempt recov polit mojo jeb desper tri find swagger right gop strategist ford connel said knock jeb low voltag will fight best way shake percept engag person media loop chang bush approach point lob mani direct attack trump delic condemn critic arizona sen john mccain war servic attack fox news megyn kelli even month first debat bush swat stori allegedli call trump buffoon clown say trump languag divis trump call bush true gentleman detent end week far top tier candid avoid directli attack trump treat kid glove anger part gop base trump appeal word voter need hope trump fade split screen new hampshir town hall week bush trump volley attack bush took point jab current front runner underscor trump past histori democrat liber posit use hold mr trump proven conserv record bush said accord washington post democrat longer last decad republican given money democrat given republican bush went attack trump hard line immigr propos argu vitriol would massiv price tag hundr billion dollar cost implement plan conserv plan bush said go pitch let support someon guess stand consist governor consist view next day bush continu hit social media trump never one miss moment retali pull punch either town hall wednesday trump blast bush unelect low energi person know happen jeb crowd street sleep trump said applaus sinc trump also ramp attack bush twitter move hot rhetor may trip bush though consid use phrase anchor babi immigr reform someth bush passion even written book often critic within gop liber issu instead comb bush appear use load phrase first time left struggl defend use may signal attack dog crouch take still one complet comfort bush earlier said want campaign joy candid embrac hit trump kentucki sen rand paul went forc debat though punch trump hedg bet support hillari clinton win presid appear land candid like ohio gov john kasich demur earlier gop debat night former texa gov rick perri businesswoman carli fiorina also jab trump bush though need close floodgat drop nation poll trump risen new hampshir bush led trump even newcom kasich seen surg cullen former new hampshir gop chairman said chang tone tactic smart move bush one could help granit state think good polit jeb said fergu cullen former new hampshir republican parti chairman percent republican entertain donald trump percent parti say vote circumst jeb bush peopl begin tri appeal percent adult room tri govern connel agre point even new approach one uncomfort bush necessari lot elect studiou one would work said trump flip script jeb bush suddenli attack trump matter']\n"
     ]
    }
   ],
   "source": [
    "print(X)"
   ]
  },
  {
   "cell_type": "code",
   "execution_count": 104,
   "id": "93b862b5-2204-4e17-815d-6564d4b9d921",
   "metadata": {},
   "outputs": [
    {
     "data": {
      "text/plain": [
       "(6335,)"
      ]
     },
     "execution_count": 104,
     "metadata": {},
     "output_type": "execute_result"
    }
   ],
   "source": [
    "Y.shape"
   ]
  },
  {
   "cell_type": "code",
   "execution_count": 105,
   "id": "24fa57ff-a3f9-4d14-8c2e-2d8fbdae151b",
   "metadata": {},
   "outputs": [],
   "source": [
    "vectorizer  = TfidfVectorizer()\n",
    "vectorizer.fit(X)\n",
    "\n",
    "X = vectorizer.transform(X)"
   ]
  },
  {
   "cell_type": "code",
   "execution_count": 135,
   "id": "6dd02f57-1495-416c-8612-2dbc5dc094b0",
   "metadata": {},
   "outputs": [
    {
     "name": "stdout",
     "output_type": "stream",
     "text": [
      "  (0, 0)\t1.0\n",
      "  (1, 0)\t1.0\n",
      "  (2, 1)\t1.0\n",
      "  (3, 0)\t1.0\n",
      "  (4, 1)\t1.0\n",
      "  (5, 0)\t1.0\n",
      "  (6, 0)\t1.0\n",
      "  (7, 1)\t1.0\n",
      "  (8, 1)\t1.0\n",
      "  (9, 1)\t1.0\n",
      "  (10, 1)\t1.0\n",
      "  (11, 1)\t1.0\n",
      "  (12, 0)\t1.0\n",
      "  (13, 0)\t1.0\n",
      "  (14, 1)\t1.0\n",
      "  (15, 1)\t1.0\n",
      "  (16, 0)\t1.0\n",
      "  (17, 0)\t1.0\n",
      "  (18, 1)\t1.0\n",
      "  (19, 1)\t1.0\n",
      "  (20, 1)\t1.0\n",
      "  (21, 0)\t1.0\n",
      "  (22, 1)\t1.0\n",
      "  (23, 1)\t1.0\n",
      "  (24, 0)\t1.0\n",
      "  :\t:\n",
      "  (6310, 1)\t1.0\n",
      "  (6311, 1)\t1.0\n",
      "  (6312, 0)\t1.0\n",
      "  (6313, 0)\t1.0\n",
      "  (6314, 0)\t1.0\n",
      "  (6315, 1)\t1.0\n",
      "  (6316, 1)\t1.0\n",
      "  (6317, 0)\t1.0\n",
      "  (6318, 0)\t1.0\n",
      "  (6319, 1)\t1.0\n",
      "  (6320, 0)\t1.0\n",
      "  (6321, 0)\t1.0\n",
      "  (6322, 0)\t1.0\n",
      "  (6323, 1)\t1.0\n",
      "  (6324, 1)\t1.0\n",
      "  (6325, 0)\t1.0\n",
      "  (6326, 0)\t1.0\n",
      "  (6327, 1)\t1.0\n",
      "  (6328, 0)\t1.0\n",
      "  (6329, 0)\t1.0\n",
      "  (6330, 1)\t1.0\n",
      "  (6331, 0)\t1.0\n",
      "  (6332, 0)\t1.0\n",
      "  (6333, 1)\t1.0\n",
      "  (6334, 1)\t1.0\n"
     ]
    }
   ],
   "source": [
    "print(X)"
   ]
  },
  {
   "cell_type": "code",
   "execution_count": 109,
   "id": "2fbf1093-bc71-42a2-9f36-ab4347e46e70",
   "metadata": {},
   "outputs": [],
   "source": [
    "from sklearn.preprocessing import LabelEncoder\n",
    "\n",
    "le = LabelEncoder()\n",
    "Y = le.fit_transform(Y)\n"
   ]
  },
  {
   "cell_type": "code",
   "execution_count": 110,
   "id": "c97af9e9-0068-4205-8a09-c8c7c165604c",
   "metadata": {},
   "outputs": [
    {
     "name": "stdout",
     "output_type": "stream",
     "text": [
      "[0 0 1 ... 0 1 1]\n"
     ]
    }
   ],
   "source": [
    "print(Y)"
   ]
  },
  {
   "cell_type": "code",
   "execution_count": 111,
   "id": "498240ca-b205-4d10-a472-dc17fa584371",
   "metadata": {},
   "outputs": [],
   "source": [
    "X_train , X_test , Y_train , Y_test = train_test_split(X,Y , test_size=0.2 , random_state=3)"
   ]
  },
  {
   "cell_type": "code",
   "execution_count": 115,
   "id": "0c8adb28-6e04-4d04-9c9f-11c54a6c351b",
   "metadata": {},
   "outputs": [
    {
     "data": {
      "text/html": [
       "<style>#sk-container-id-1 {\n",
       "  /* Definition of color scheme common for light and dark mode */\n",
       "  --sklearn-color-text: black;\n",
       "  --sklearn-color-line: gray;\n",
       "  /* Definition of color scheme for unfitted estimators */\n",
       "  --sklearn-color-unfitted-level-0: #fff5e6;\n",
       "  --sklearn-color-unfitted-level-1: #f6e4d2;\n",
       "  --sklearn-color-unfitted-level-2: #ffe0b3;\n",
       "  --sklearn-color-unfitted-level-3: chocolate;\n",
       "  /* Definition of color scheme for fitted estimators */\n",
       "  --sklearn-color-fitted-level-0: #f0f8ff;\n",
       "  --sklearn-color-fitted-level-1: #d4ebff;\n",
       "  --sklearn-color-fitted-level-2: #b3dbfd;\n",
       "  --sklearn-color-fitted-level-3: cornflowerblue;\n",
       "\n",
       "  /* Specific color for light theme */\n",
       "  --sklearn-color-text-on-default-background: var(--sg-text-color, var(--theme-code-foreground, var(--jp-content-font-color1, black)));\n",
       "  --sklearn-color-background: var(--sg-background-color, var(--theme-background, var(--jp-layout-color0, white)));\n",
       "  --sklearn-color-border-box: var(--sg-text-color, var(--theme-code-foreground, var(--jp-content-font-color1, black)));\n",
       "  --sklearn-color-icon: #696969;\n",
       "\n",
       "  @media (prefers-color-scheme: dark) {\n",
       "    /* Redefinition of color scheme for dark theme */\n",
       "    --sklearn-color-text-on-default-background: var(--sg-text-color, var(--theme-code-foreground, var(--jp-content-font-color1, white)));\n",
       "    --sklearn-color-background: var(--sg-background-color, var(--theme-background, var(--jp-layout-color0, #111)));\n",
       "    --sklearn-color-border-box: var(--sg-text-color, var(--theme-code-foreground, var(--jp-content-font-color1, white)));\n",
       "    --sklearn-color-icon: #878787;\n",
       "  }\n",
       "}\n",
       "\n",
       "#sk-container-id-1 {\n",
       "  color: var(--sklearn-color-text);\n",
       "}\n",
       "\n",
       "#sk-container-id-1 pre {\n",
       "  padding: 0;\n",
       "}\n",
       "\n",
       "#sk-container-id-1 input.sk-hidden--visually {\n",
       "  border: 0;\n",
       "  clip: rect(1px 1px 1px 1px);\n",
       "  clip: rect(1px, 1px, 1px, 1px);\n",
       "  height: 1px;\n",
       "  margin: -1px;\n",
       "  overflow: hidden;\n",
       "  padding: 0;\n",
       "  position: absolute;\n",
       "  width: 1px;\n",
       "}\n",
       "\n",
       "#sk-container-id-1 div.sk-dashed-wrapped {\n",
       "  border: 1px dashed var(--sklearn-color-line);\n",
       "  margin: 0 0.4em 0.5em 0.4em;\n",
       "  box-sizing: border-box;\n",
       "  padding-bottom: 0.4em;\n",
       "  background-color: var(--sklearn-color-background);\n",
       "}\n",
       "\n",
       "#sk-container-id-1 div.sk-container {\n",
       "  /* jupyter's `normalize.less` sets `[hidden] { display: none; }`\n",
       "     but bootstrap.min.css set `[hidden] { display: none !important; }`\n",
       "     so we also need the `!important` here to be able to override the\n",
       "     default hidden behavior on the sphinx rendered scikit-learn.org.\n",
       "     See: https://github.com/scikit-learn/scikit-learn/issues/21755 */\n",
       "  display: inline-block !important;\n",
       "  position: relative;\n",
       "}\n",
       "\n",
       "#sk-container-id-1 div.sk-text-repr-fallback {\n",
       "  display: none;\n",
       "}\n",
       "\n",
       "div.sk-parallel-item,\n",
       "div.sk-serial,\n",
       "div.sk-item {\n",
       "  /* draw centered vertical line to link estimators */\n",
       "  background-image: linear-gradient(var(--sklearn-color-text-on-default-background), var(--sklearn-color-text-on-default-background));\n",
       "  background-size: 2px 100%;\n",
       "  background-repeat: no-repeat;\n",
       "  background-position: center center;\n",
       "}\n",
       "\n",
       "/* Parallel-specific style estimator block */\n",
       "\n",
       "#sk-container-id-1 div.sk-parallel-item::after {\n",
       "  content: \"\";\n",
       "  width: 100%;\n",
       "  border-bottom: 2px solid var(--sklearn-color-text-on-default-background);\n",
       "  flex-grow: 1;\n",
       "}\n",
       "\n",
       "#sk-container-id-1 div.sk-parallel {\n",
       "  display: flex;\n",
       "  align-items: stretch;\n",
       "  justify-content: center;\n",
       "  background-color: var(--sklearn-color-background);\n",
       "  position: relative;\n",
       "}\n",
       "\n",
       "#sk-container-id-1 div.sk-parallel-item {\n",
       "  display: flex;\n",
       "  flex-direction: column;\n",
       "}\n",
       "\n",
       "#sk-container-id-1 div.sk-parallel-item:first-child::after {\n",
       "  align-self: flex-end;\n",
       "  width: 50%;\n",
       "}\n",
       "\n",
       "#sk-container-id-1 div.sk-parallel-item:last-child::after {\n",
       "  align-self: flex-start;\n",
       "  width: 50%;\n",
       "}\n",
       "\n",
       "#sk-container-id-1 div.sk-parallel-item:only-child::after {\n",
       "  width: 0;\n",
       "}\n",
       "\n",
       "/* Serial-specific style estimator block */\n",
       "\n",
       "#sk-container-id-1 div.sk-serial {\n",
       "  display: flex;\n",
       "  flex-direction: column;\n",
       "  align-items: center;\n",
       "  background-color: var(--sklearn-color-background);\n",
       "  padding-right: 1em;\n",
       "  padding-left: 1em;\n",
       "}\n",
       "\n",
       "\n",
       "/* Toggleable style: style used for estimator/Pipeline/ColumnTransformer box that is\n",
       "clickable and can be expanded/collapsed.\n",
       "- Pipeline and ColumnTransformer use this feature and define the default style\n",
       "- Estimators will overwrite some part of the style using the `sk-estimator` class\n",
       "*/\n",
       "\n",
       "/* Pipeline and ColumnTransformer style (default) */\n",
       "\n",
       "#sk-container-id-1 div.sk-toggleable {\n",
       "  /* Default theme specific background. It is overwritten whether we have a\n",
       "  specific estimator or a Pipeline/ColumnTransformer */\n",
       "  background-color: var(--sklearn-color-background);\n",
       "}\n",
       "\n",
       "/* Toggleable label */\n",
       "#sk-container-id-1 label.sk-toggleable__label {\n",
       "  cursor: pointer;\n",
       "  display: block;\n",
       "  width: 100%;\n",
       "  margin-bottom: 0;\n",
       "  padding: 0.5em;\n",
       "  box-sizing: border-box;\n",
       "  text-align: center;\n",
       "}\n",
       "\n",
       "#sk-container-id-1 label.sk-toggleable__label-arrow:before {\n",
       "  /* Arrow on the left of the label */\n",
       "  content: \"▸\";\n",
       "  float: left;\n",
       "  margin-right: 0.25em;\n",
       "  color: var(--sklearn-color-icon);\n",
       "}\n",
       "\n",
       "#sk-container-id-1 label.sk-toggleable__label-arrow:hover:before {\n",
       "  color: var(--sklearn-color-text);\n",
       "}\n",
       "\n",
       "/* Toggleable content - dropdown */\n",
       "\n",
       "#sk-container-id-1 div.sk-toggleable__content {\n",
       "  max-height: 0;\n",
       "  max-width: 0;\n",
       "  overflow: hidden;\n",
       "  text-align: left;\n",
       "  /* unfitted */\n",
       "  background-color: var(--sklearn-color-unfitted-level-0);\n",
       "}\n",
       "\n",
       "#sk-container-id-1 div.sk-toggleable__content.fitted {\n",
       "  /* fitted */\n",
       "  background-color: var(--sklearn-color-fitted-level-0);\n",
       "}\n",
       "\n",
       "#sk-container-id-1 div.sk-toggleable__content pre {\n",
       "  margin: 0.2em;\n",
       "  border-radius: 0.25em;\n",
       "  color: var(--sklearn-color-text);\n",
       "  /* unfitted */\n",
       "  background-color: var(--sklearn-color-unfitted-level-0);\n",
       "}\n",
       "\n",
       "#sk-container-id-1 div.sk-toggleable__content.fitted pre {\n",
       "  /* unfitted */\n",
       "  background-color: var(--sklearn-color-fitted-level-0);\n",
       "}\n",
       "\n",
       "#sk-container-id-1 input.sk-toggleable__control:checked~div.sk-toggleable__content {\n",
       "  /* Expand drop-down */\n",
       "  max-height: 200px;\n",
       "  max-width: 100%;\n",
       "  overflow: auto;\n",
       "}\n",
       "\n",
       "#sk-container-id-1 input.sk-toggleable__control:checked~label.sk-toggleable__label-arrow:before {\n",
       "  content: \"▾\";\n",
       "}\n",
       "\n",
       "/* Pipeline/ColumnTransformer-specific style */\n",
       "\n",
       "#sk-container-id-1 div.sk-label input.sk-toggleable__control:checked~label.sk-toggleable__label {\n",
       "  color: var(--sklearn-color-text);\n",
       "  background-color: var(--sklearn-color-unfitted-level-2);\n",
       "}\n",
       "\n",
       "#sk-container-id-1 div.sk-label.fitted input.sk-toggleable__control:checked~label.sk-toggleable__label {\n",
       "  background-color: var(--sklearn-color-fitted-level-2);\n",
       "}\n",
       "\n",
       "/* Estimator-specific style */\n",
       "\n",
       "/* Colorize estimator box */\n",
       "#sk-container-id-1 div.sk-estimator input.sk-toggleable__control:checked~label.sk-toggleable__label {\n",
       "  /* unfitted */\n",
       "  background-color: var(--sklearn-color-unfitted-level-2);\n",
       "}\n",
       "\n",
       "#sk-container-id-1 div.sk-estimator.fitted input.sk-toggleable__control:checked~label.sk-toggleable__label {\n",
       "  /* fitted */\n",
       "  background-color: var(--sklearn-color-fitted-level-2);\n",
       "}\n",
       "\n",
       "#sk-container-id-1 div.sk-label label.sk-toggleable__label,\n",
       "#sk-container-id-1 div.sk-label label {\n",
       "  /* The background is the default theme color */\n",
       "  color: var(--sklearn-color-text-on-default-background);\n",
       "}\n",
       "\n",
       "/* On hover, darken the color of the background */\n",
       "#sk-container-id-1 div.sk-label:hover label.sk-toggleable__label {\n",
       "  color: var(--sklearn-color-text);\n",
       "  background-color: var(--sklearn-color-unfitted-level-2);\n",
       "}\n",
       "\n",
       "/* Label box, darken color on hover, fitted */\n",
       "#sk-container-id-1 div.sk-label.fitted:hover label.sk-toggleable__label.fitted {\n",
       "  color: var(--sklearn-color-text);\n",
       "  background-color: var(--sklearn-color-fitted-level-2);\n",
       "}\n",
       "\n",
       "/* Estimator label */\n",
       "\n",
       "#sk-container-id-1 div.sk-label label {\n",
       "  font-family: monospace;\n",
       "  font-weight: bold;\n",
       "  display: inline-block;\n",
       "  line-height: 1.2em;\n",
       "}\n",
       "\n",
       "#sk-container-id-1 div.sk-label-container {\n",
       "  text-align: center;\n",
       "}\n",
       "\n",
       "/* Estimator-specific */\n",
       "#sk-container-id-1 div.sk-estimator {\n",
       "  font-family: monospace;\n",
       "  border: 1px dotted var(--sklearn-color-border-box);\n",
       "  border-radius: 0.25em;\n",
       "  box-sizing: border-box;\n",
       "  margin-bottom: 0.5em;\n",
       "  /* unfitted */\n",
       "  background-color: var(--sklearn-color-unfitted-level-0);\n",
       "}\n",
       "\n",
       "#sk-container-id-1 div.sk-estimator.fitted {\n",
       "  /* fitted */\n",
       "  background-color: var(--sklearn-color-fitted-level-0);\n",
       "}\n",
       "\n",
       "/* on hover */\n",
       "#sk-container-id-1 div.sk-estimator:hover {\n",
       "  /* unfitted */\n",
       "  background-color: var(--sklearn-color-unfitted-level-2);\n",
       "}\n",
       "\n",
       "#sk-container-id-1 div.sk-estimator.fitted:hover {\n",
       "  /* fitted */\n",
       "  background-color: var(--sklearn-color-fitted-level-2);\n",
       "}\n",
       "\n",
       "/* Specification for estimator info (e.g. \"i\" and \"?\") */\n",
       "\n",
       "/* Common style for \"i\" and \"?\" */\n",
       "\n",
       ".sk-estimator-doc-link,\n",
       "a:link.sk-estimator-doc-link,\n",
       "a:visited.sk-estimator-doc-link {\n",
       "  float: right;\n",
       "  font-size: smaller;\n",
       "  line-height: 1em;\n",
       "  font-family: monospace;\n",
       "  background-color: var(--sklearn-color-background);\n",
       "  border-radius: 1em;\n",
       "  height: 1em;\n",
       "  width: 1em;\n",
       "  text-decoration: none !important;\n",
       "  margin-left: 1ex;\n",
       "  /* unfitted */\n",
       "  border: var(--sklearn-color-unfitted-level-1) 1pt solid;\n",
       "  color: var(--sklearn-color-unfitted-level-1);\n",
       "}\n",
       "\n",
       ".sk-estimator-doc-link.fitted,\n",
       "a:link.sk-estimator-doc-link.fitted,\n",
       "a:visited.sk-estimator-doc-link.fitted {\n",
       "  /* fitted */\n",
       "  border: var(--sklearn-color-fitted-level-1) 1pt solid;\n",
       "  color: var(--sklearn-color-fitted-level-1);\n",
       "}\n",
       "\n",
       "/* On hover */\n",
       "div.sk-estimator:hover .sk-estimator-doc-link:hover,\n",
       ".sk-estimator-doc-link:hover,\n",
       "div.sk-label-container:hover .sk-estimator-doc-link:hover,\n",
       ".sk-estimator-doc-link:hover {\n",
       "  /* unfitted */\n",
       "  background-color: var(--sklearn-color-unfitted-level-3);\n",
       "  color: var(--sklearn-color-background);\n",
       "  text-decoration: none;\n",
       "}\n",
       "\n",
       "div.sk-estimator.fitted:hover .sk-estimator-doc-link.fitted:hover,\n",
       ".sk-estimator-doc-link.fitted:hover,\n",
       "div.sk-label-container:hover .sk-estimator-doc-link.fitted:hover,\n",
       ".sk-estimator-doc-link.fitted:hover {\n",
       "  /* fitted */\n",
       "  background-color: var(--sklearn-color-fitted-level-3);\n",
       "  color: var(--sklearn-color-background);\n",
       "  text-decoration: none;\n",
       "}\n",
       "\n",
       "/* Span, style for the box shown on hovering the info icon */\n",
       ".sk-estimator-doc-link span {\n",
       "  display: none;\n",
       "  z-index: 9999;\n",
       "  position: relative;\n",
       "  font-weight: normal;\n",
       "  right: .2ex;\n",
       "  padding: .5ex;\n",
       "  margin: .5ex;\n",
       "  width: min-content;\n",
       "  min-width: 20ex;\n",
       "  max-width: 50ex;\n",
       "  color: var(--sklearn-color-text);\n",
       "  box-shadow: 2pt 2pt 4pt #999;\n",
       "  /* unfitted */\n",
       "  background: var(--sklearn-color-unfitted-level-0);\n",
       "  border: .5pt solid var(--sklearn-color-unfitted-level-3);\n",
       "}\n",
       "\n",
       ".sk-estimator-doc-link.fitted span {\n",
       "  /* fitted */\n",
       "  background: var(--sklearn-color-fitted-level-0);\n",
       "  border: var(--sklearn-color-fitted-level-3);\n",
       "}\n",
       "\n",
       ".sk-estimator-doc-link:hover span {\n",
       "  display: block;\n",
       "}\n",
       "\n",
       "/* \"?\"-specific style due to the `<a>` HTML tag */\n",
       "\n",
       "#sk-container-id-1 a.estimator_doc_link {\n",
       "  float: right;\n",
       "  font-size: 1rem;\n",
       "  line-height: 1em;\n",
       "  font-family: monospace;\n",
       "  background-color: var(--sklearn-color-background);\n",
       "  border-radius: 1rem;\n",
       "  height: 1rem;\n",
       "  width: 1rem;\n",
       "  text-decoration: none;\n",
       "  /* unfitted */\n",
       "  color: var(--sklearn-color-unfitted-level-1);\n",
       "  border: var(--sklearn-color-unfitted-level-1) 1pt solid;\n",
       "}\n",
       "\n",
       "#sk-container-id-1 a.estimator_doc_link.fitted {\n",
       "  /* fitted */\n",
       "  border: var(--sklearn-color-fitted-level-1) 1pt solid;\n",
       "  color: var(--sklearn-color-fitted-level-1);\n",
       "}\n",
       "\n",
       "/* On hover */\n",
       "#sk-container-id-1 a.estimator_doc_link:hover {\n",
       "  /* unfitted */\n",
       "  background-color: var(--sklearn-color-unfitted-level-3);\n",
       "  color: var(--sklearn-color-background);\n",
       "  text-decoration: none;\n",
       "}\n",
       "\n",
       "#sk-container-id-1 a.estimator_doc_link.fitted:hover {\n",
       "  /* fitted */\n",
       "  background-color: var(--sklearn-color-fitted-level-3);\n",
       "}\n",
       "</style><div id=\"sk-container-id-1\" class=\"sk-top-container\"><div class=\"sk-text-repr-fallback\"><pre>LogisticRegression()</pre><b>In a Jupyter environment, please rerun this cell to show the HTML representation or trust the notebook. <br />On GitHub, the HTML representation is unable to render, please try loading this page with nbviewer.org.</b></div><div class=\"sk-container\" hidden><div class=\"sk-item\"><div class=\"sk-estimator fitted sk-toggleable\"><input class=\"sk-toggleable__control sk-hidden--visually\" id=\"sk-estimator-id-1\" type=\"checkbox\" checked><label for=\"sk-estimator-id-1\" class=\"sk-toggleable__label fitted sk-toggleable__label-arrow fitted\">&nbsp;&nbsp;LogisticRegression<a class=\"sk-estimator-doc-link fitted\" rel=\"noreferrer\" target=\"_blank\" href=\"https://scikit-learn.org/1.5/modules/generated/sklearn.linear_model.LogisticRegression.html\">?<span>Documentation for LogisticRegression</span></a><span class=\"sk-estimator-doc-link fitted\">i<span>Fitted</span></span></label><div class=\"sk-toggleable__content fitted\"><pre>LogisticRegression()</pre></div> </div></div></div></div>"
      ],
      "text/plain": [
       "LogisticRegression()"
      ]
     },
     "execution_count": 115,
     "metadata": {},
     "output_type": "execute_result"
    }
   ],
   "source": [
    "model = LogisticRegression()\n",
    "model.fit(X_train , Y_train)"
   ]
  },
  {
   "cell_type": "code",
   "execution_count": 119,
   "id": "bf4223b2-3d77-4494-9a52-b38eeb319fc6",
   "metadata": {},
   "outputs": [],
   "source": [
    "prediction = model.predict(X_train)"
   ]
  },
  {
   "cell_type": "code",
   "execution_count": 120,
   "id": "e053433f-6843-49cf-9c40-4abc8a0da783",
   "metadata": {},
   "outputs": [],
   "source": [
    "accuracy = accuracy_score(Y_train , prediction)"
   ]
  },
  {
   "cell_type": "code",
   "execution_count": 121,
   "id": "41b161db-9909-4d14-904a-bb649b3f882f",
   "metadata": {},
   "outputs": [
    {
     "name": "stdout",
     "output_type": "stream",
     "text": [
      "1.0\n"
     ]
    }
   ],
   "source": [
    "print(accuracy)"
   ]
  },
  {
   "cell_type": "code",
   "execution_count": 122,
   "id": "d8b24a77-bcd7-4bc4-825d-bc7da556c4fd",
   "metadata": {},
   "outputs": [],
   "source": [
    "prediction = model.predict(X_test)"
   ]
  },
  {
   "cell_type": "code",
   "execution_count": 123,
   "id": "5030f59c-87af-472f-b618-5bc2e41ab098",
   "metadata": {},
   "outputs": [],
   "source": [
    "\n",
    "accuracy = accuracy_score(Y_test , prediction)"
   ]
  },
  {
   "cell_type": "code",
   "execution_count": 124,
   "id": "6d660971-0922-46a7-90aa-b25e55cfcb47",
   "metadata": {},
   "outputs": [
    {
     "name": "stdout",
     "output_type": "stream",
     "text": [
      "1.0\n"
     ]
    }
   ],
   "source": [
    "print(accuracy)"
   ]
  },
  {
   "cell_type": "code",
   "execution_count": null,
   "id": "7f8bbfae-5e64-4c7e-b141-cfced7552c34",
   "metadata": {},
   "outputs": [],
   "source": []
  },
  {
   "cell_type": "code",
   "execution_count": null,
   "id": "70ff4b8a-8cdf-448b-bdd0-7bddbcade497",
   "metadata": {},
   "outputs": [],
   "source": []
  },
  {
   "cell_type": "code",
   "execution_count": 142,
   "id": "694070d6-6c21-4a69-b863-181cfbed7824",
   "metadata": {},
   "outputs": [],
   "source": [
    "input_news = X"
   ]
  },
  {
   "cell_type": "code",
   "execution_count": 143,
   "id": "5b813fca-ff10-4129-9307-f1ece9d93df6",
   "metadata": {},
   "outputs": [],
   "source": [
    "predict = model.predict(input_news)"
   ]
  },
  {
   "cell_type": "code",
   "execution_count": 144,
   "id": "357a0096-b800-4a12-8675-c45d5e02eac0",
   "metadata": {},
   "outputs": [
    {
     "name": "stdout",
     "output_type": "stream",
     "text": [
      "[0 0 1 ... 0 1 1]\n"
     ]
    }
   ],
   "source": [
    "print(predict)"
   ]
  },
  {
   "cell_type": "code",
   "execution_count": 145,
   "id": "66acfa3c-bc8b-46f4-b846-62b3df5d7629",
   "metadata": {},
   "outputs": [
    {
     "name": "stdout",
     "output_type": "stream",
     "text": [
      "fake news\n"
     ]
    }
   ],
   "source": [
    "if prediction[0] == 1:\n",
    "    print(\"fake news\")\n",
    "else:\n",
    "    print(\"real news\")"
   ]
  },
  {
   "cell_type": "code",
   "execution_count": null,
   "id": "bea9f1a1-8043-412d-8bf2-fdb10a65a570",
   "metadata": {},
   "outputs": [],
   "source": []
  }
 ],
 "metadata": {
  "kernelspec": {
   "display_name": "Python [conda env:base] *",
   "language": "python",
   "name": "conda-base-py"
  },
  "language_info": {
   "codemirror_mode": {
    "name": "ipython",
    "version": 3
   },
   "file_extension": ".py",
   "mimetype": "text/x-python",
   "name": "python",
   "nbconvert_exporter": "python",
   "pygments_lexer": "ipython3",
   "version": "3.12.7"
  }
 },
 "nbformat": 4,
 "nbformat_minor": 5
}
